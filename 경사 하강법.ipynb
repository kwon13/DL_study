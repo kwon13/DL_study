{
 "cells": [
  {
   "cell_type": "code",
   "execution_count": 1,
   "metadata": {},
   "outputs": [],
   "source": [
    "import numpy as np \n",
    "import matplotlib.pyplot as plt\n",
    "\n",
    "data=[[2,81],[4,93],[6,91],[8,97]]\n",
    "\n",
    "x=[i[0] for i in data]\n",
    "y=[i[1] for i in data]"
   ]
  },
  {
   "cell_type": "code",
   "execution_count": 2,
   "metadata": {},
   "outputs": [],
   "source": [
    "# 넘파이 배열로 변환\n",
    "x_data=np.array(x)\n",
    "y_data=np.array(y)\n",
    "\n",
    "# 가중치와 절편 초기화 \n",
    "w=0\n",
    "b=0\n",
    "\n",
    "# 학습률과 학습 반복횟수 설정\n",
    "lr=0.03\n",
    "epochs=2001"
   ]
  },
  {
   "cell_type": "code",
   "execution_count": 6,
   "metadata": {},
   "outputs": [
    {
     "name": "stdout",
     "output_type": "stream",
     "text": [
      " epoch: 0, 기울기: 27.840000, 절편: 5.430000\n",
      " epoch: 100, 기울기: 7.073858, 절편: 50.511662\n",
      " epoch: 200, 기울기: 4.095999, 절편: 68.282244\n",
      " epoch: 300, 기울기: 2.975683, 절편: 74.967813\n",
      " epoch: 400, 기울기: 2.554202, 절편: 77.483029\n",
      " epoch: 500, 기울기: 2.395635, 절편: 78.429292\n",
      " epoch: 600, 기울기: 2.335979, 절편: 78.785291\n",
      " epoch: 700, 기울기: 2.313536, 절편: 78.919223\n",
      " epoch: 800, 기울기: 2.305092, 절편: 78.969610\n",
      " epoch: 900, 기울기: 2.301916, 절편: 78.988567\n",
      " epoch: 1000, 기울기: 2.300721, 절편: 78.995699\n",
      " epoch: 1100, 기울기: 2.300271, 절편: 78.998382\n",
      " epoch: 1200, 기울기: 2.300102, 절편: 78.999391\n",
      " epoch: 1300, 기울기: 2.300038, 절편: 78.999771\n",
      " epoch: 1400, 기울기: 2.300014, 절편: 78.999914\n",
      " epoch: 1500, 기울기: 2.300005, 절편: 78.999968\n",
      " epoch: 1600, 기울기: 2.300002, 절편: 78.999988\n",
      " epoch: 1700, 기울기: 2.300001, 절편: 78.999995\n",
      " epoch: 1800, 기울기: 2.300000, 절편: 78.999998\n",
      " epoch: 1900, 기울기: 2.300000, 절편: 78.999999\n",
      " epoch: 2000, 기울기: 2.300000, 절편: 79.000000\n"
     ]
    }
   ],
   "source": [
    "# 넘파이 배열로 변환\n",
    "x_data=np.array(x)\n",
    "y_data=np.array(y)\n",
    "\n",
    "# 가중치와 절편 초기화 \n",
    "w=0\n",
    "b=0\n",
    "\n",
    "# 학습률과 학습 반복횟수 설정\n",
    "lr=0.03\n",
    "epochs=2001\n",
    "\n",
    "for i in range(epochs):\n",
    "    # 예측값과 오차값 계산\n",
    "    y_hat=w * x_data + b\n",
    "    error=y_data - y_hat\n",
    "    \n",
    "    # 미분 값 계산\n",
    "    w_diff=-(2/len(x_data)) * sum(x_data * error)\n",
    "    b_diff=-(2/len(x_data)) * sum(error)\n",
    "\n",
    "    # 가중치와 절편 업데이트\n",
    "    w=w-lr*w_diff\n",
    "    b=b-lr*b_diff\n",
    "\n",
    "    if i % 100 == 0:\n",
    "        print(' epoch: {}, 기울기: {:4f}, 절편: {:4f}'.format(i,w,b))"
   ]
  },
  {
   "cell_type": "code",
   "execution_count": 4,
   "metadata": {},
   "outputs": [
    {
     "data": {
      "image/png": "[encoded data removed]",
      "text/plain": [
       "<Figure size 432x288 with 1 Axes>"
      ]
     },
     "metadata": {
      "needs_background": "light"
     },
     "output_type": "display_data"
    }
   ],
   "source": [
    "y_pred=w * x_data + b\n",
    "plt.scatter(x,y)\n",
    "plt.plot(x, y_pred, 'ro-')\n",
    "plt.ylim(30,100)\n",
    "plt.show()"
   ]
  }
 ],
 "metadata": {
  "interpreter": {
   "hash": "dca0ade3e726a953b501b15e8e990130d2b7799f14cfd9f4271676035ebe5511"
  },
  "kernelspec": {
   "display_name": "Python 3.8.8 64-bit ('base': conda)",
   "name": "python3"
  },
  "language_info": {
   "name": "python",
   "version": ""
  },
  "orig_nbformat": 4
 },
 "nbformat": 4,
 "nbformat_minor": 2
}