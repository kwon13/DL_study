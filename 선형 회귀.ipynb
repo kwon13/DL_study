{
 "cells": [
  {
   "cell_type": "code",
   "execution_count": 22,
   "metadata": {},
   "outputs": [],
   "source": [
    "import numpy as np\n",
    "import matplotlib.pyplot as plt"
   ]
  },
  {
   "cell_type": "code",
   "execution_count": 28,
   "metadata": {},
   "outputs": [
    {
     "data": {
      "image/png": "[encoded data removed]",
      "text/plain": [
       "<Figure size 432x288 with 1 Axes>"
      ]
     },
     "metadata": {
      "needs_background": "light"
     },
     "output_type": "display_data"
    }
   ],
   "source": [
    "# x값, y값\n",
    "x=[2,4,6,8]\n",
    "y=[81,93,91,97]\n",
    "plt.scatter(x,y)\n",
    "plt.grid()\n",
    "plt.show()"
   ]
  },
  {
   "cell_type": "code",
   "execution_count": 5,
   "metadata": {},
   "outputs": [
    {
     "name": "stdout",
     "output_type": "stream",
     "text": [
      "5.0\n",
      "90.5\n"
     ]
    }
   ],
   "source": [
    "# x값, y값\n",
    "x=[2,4,6,8]\n",
    "y=[81,93,91,97]\n",
    "\n",
    "# 각 값의 평균값\n",
    "mean_x=np.mean(x)\n",
    "mean_y=np.mean(y)\n",
    "print(mean_x)\n",
    "print(mean_y)"
   ]
  },
  {
   "cell_type": "code",
   "execution_count": 30,
   "metadata": {},
   "outputs": [
    {
     "data": {
      "text/plain": [
       "'y=2.3x+79.0'"
      ]
     },
     "execution_count": 30,
     "metadata": {},
     "output_type": "execute_result"
    }
   ],
   "source": [
    "# x값, y값\n",
    "x=[2,4,6,8]\n",
    "y=[81,93,91,97]\n",
    "\n",
    "# 각 값의 평균값\n",
    "mean_x=np.mean(x)\n",
    "mean_y=np.mean(y)\n",
    "\n",
    "# 최소 제곱법으로 기울기 구하기\n",
    "def least_square(x, mean_x, y, mean_y):\n",
    "    # 분모\n",
    "    divisor=sum([(mean_x-i)**2 for i in x])\n",
    "    \n",
    "    # 분자\n",
    "    dividend=0\n",
    "    for i in range(len(x)):\n",
    "        dividend += (x[i]-mean_x) * (y[i]-mean_y)\n",
    "    \n",
    "    # 기울기\n",
    "    g=dividend/divisor\n",
    "    \n",
    "    # y절편\n",
    "    b=mean_y-(mean_x*g)\n",
    "    \n",
    "    return f'y={g}x+{b}'\n",
    "\n",
    "least_square(x, mean_x, y, mean_y)\n"
   ]
  },
  {
   "cell_type": "code",
   "execution_count": 82,
   "metadata": {},
   "outputs": [
    {
     "data": {
      "text/plain": [
       "(30.0, 100.0)"
      ]
     },
     "execution_count": 82,
     "metadata": {},
     "output_type": "execute_result"
    },
    {
     "data": {
      "image/png": "[encoded data removed]",
      "text/plain": [
       "<Figure size 432x288 with 1 Axes>"
      ]
     },
     "metadata": {
      "needs_background": "light"
     },
     "output_type": "display_data"
    }
   ],
   "source": [
    "x_predict=[2,4,6,8]\n",
    "y_predict=[2.3*i+79.0 for i in x]\n",
    "plt.plot(x_predict,y_predict, 'ro-')\n",
    "x=[2,4,6,8]\n",
    "y=[81,93,91,97]\n",
    "plt.scatter(x,y)\n",
    "plt.ylim(30,100)"
   ]
  },
  {
   "cell_type": "markdown",
   "metadata": {},
   "source": [
    "mse를 활용"
   ]
  },
  {
   "cell_type": "code",
   "execution_count": 62,
   "metadata": {},
   "outputs": [],
   "source": [
    "data=[[2,81],[4,93],[6,91],[8,97]]\n",
    "x=[i[0] for i in data]\n",
    "y=[i[1] for i in data]"
   ]
  },
  {
   "cell_type": "code",
   "execution_count": 76,
   "metadata": {},
   "outputs": [
    {
     "name": "stdout",
     "output_type": "stream",
     "text": [
      "실제: 81 예측: 82\n",
      "실제: 93 예측: 88\n",
      "실제: 91 예측: 94\n",
      "실제: 97 예측: 100\n"
     ]
    },
    {
     "data": {
      "text/plain": [
       "('mse 오차 값-->', 11.0)"
      ]
     },
     "execution_count": 76,
     "metadata": {},
     "output_type": "execute_result"
    }
   ],
   "source": [
    "data=[[2,81],[4,93],[6,91],[8,97]]\n",
    "x=[i[0] for i in data]\n",
    "y=[i[1] for i in data]\n",
    "\n",
    "# 임의로 기울기는 3, y절편은 76으로 설정\n",
    "fake_a_b=[3,76]\n",
    "\n",
    "def mse(x,y):\n",
    "    predict_result=[]\n",
    "\n",
    "    for i in range(len(x)):\n",
    "        # 예측 값\n",
    "        pred_y=fake_a_b[0]*x[i] + fake_a_b[1]\n",
    "        print (f'실제: {y[i]} 예측: {pred_y}')\n",
    "        # 예측 값을 predict_result리스트에 저장\n",
    "        predict_result.append(pred_y)\n",
    "    # mse 값을 계산\n",
    "    return ('mse 오차 값-->',((y-np.array(predict_result))**2).mean())\n",
    "\n",
    "mse(x,y)"
   ]
  },
  {
   "cell_type": "code",
   "execution_count": null,
   "metadata": {},
   "outputs": [],
   "source": []
  }
 ],
 "metadata": {
  "interpreter": {
   "hash": "aee8b7b246df8f9039afb4144a1f6fd8d2ca17a180786b69acc140d282b71a49"
  },
  "kernelspec": {
   "display_name": "Python 3.8.6 64-bit",
   "name": "python3"
  },
  "language_info": {
   "codemirror_mode": {
    "name": "ipython",
    "version": 3
   },
   "file_extension": ".py",
   "mimetype": "text/x-python",
   "name": "python",
   "nbconvert_exporter": "python",
   "pygments_lexer": "ipython3",
   "version": "3.8.6"
  }
 },
 "nbformat": 4,
 "nbformat_minor": 2
}