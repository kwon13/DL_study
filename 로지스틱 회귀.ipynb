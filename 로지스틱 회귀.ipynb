{
 "cells": [
  {
   "cell_type": "code",
   "execution_count": 1,
   "metadata": {},
   "outputs": [],
   "source": [
    "import numpy as np\n",
    "import matplotlib.pyplot as plt\n",
    "\n",
    "# x,y 데이터 \n",
    "data=[[2,0],[4,0],[6,0],[8,1],[10,1],[12,1],[14,1]]\n",
    "x_data=[i[0] for i in data]\n",
    "y_data=[i[1] for i in data]"
   ]
  },
  {
   "cell_type": "code",
   "execution_count": 2,
   "metadata": {},
   "outputs": [
    {
     "name": "stdout",
     "output_type": "stream",
     "text": [
      " epoch: 0, 기울기: 2.29, 절편: 0.07\n",
      " epoch: 100, 기울기: 1.10, 절편: -9.77\n",
      " epoch: 200, 기울기: 1.51, 절편: -11.85\n",
      " epoch: 300, 기울기: 1.82, 절편: -12.54\n",
      " epoch: 400, 기울기: 1.90, 절편: -13.13\n",
      " epoch: 500, 기울기: 1.98, 절편: -13.68\n",
      " epoch: 600, 기울기: 2.05, 절편: -14.18\n",
      " epoch: 700, 기울기: 2.12, 절편: -14.65\n",
      " epoch: 800, 기울기: 2.18, 절편: -15.10\n",
      " epoch: 900, 기울기: 2.24, 절편: -15.51\n",
      " epoch: 1000, 기울기: 2.29, 절편: -15.90\n",
      " epoch: 1100, 기울기: 2.35, 절편: -16.28\n",
      " epoch: 1200, 기울기: 2.40, 절편: -16.63\n",
      " epoch: 1300, 기울기: 2.45, 절편: -16.97\n",
      " epoch: 1400, 기울기: 2.49, 절편: -17.29\n",
      " epoch: 1500, 기울기: 2.54, 절편: -17.60\n",
      " epoch: 1600, 기울기: 2.58, 절편: -17.90\n",
      " epoch: 1700, 기울기: 2.62, 절편: -18.18\n",
      " epoch: 1800, 기울기: 2.66, 절편: -18.46\n",
      " epoch: 1900, 기울기: 2.70, 절편: -18.72\n",
      " epoch: 2000, 기울기: 2.73, 절편: -18.97\n"
     ]
    }
   ],
   "source": [
    "# 넘파이 배열로 변환\n",
    "x_data=np.array(x_data)\n",
    "y_data=np.array(y_data)\n",
    "\n",
    "# 가중치와 절편 초기화 \n",
    "w=0\n",
    "b=0\n",
    "\n",
    "# 학습률과 학습 반복횟수 설정\n",
    "lr=0.5\n",
    "epochs=2001\n",
    "\n",
    "# 시그모이드 함수 정의\n",
    "def sigmoid(x):\n",
    "    return 1 / (1+np.e**(-x))\n",
    "\n",
    "for i in range(epochs):\n",
    "    # 예측값과 오차값 계산\n",
    "    y_hat=w * x_data + b\n",
    "    error=y_data - sigmoid(y_hat) # 시그모이드 함수 사용\n",
    "    \n",
    "    # 미분 값 계산\n",
    "    w_diff=-(2/len(x_data)) * sum(x_data * error)\n",
    "    b_diff=-(2/len(x_data)) * sum(error)\n",
    "\n",
    "    # 가중치와 절편 업데이트\n",
    "    w=w-lr*w_diff\n",
    "    b=b-lr*b_diff\n",
    "\n",
    "    if i % 100 == 0:\n",
    "        print(' epoch: {}, 기울기: {:.2f}, 절편: {:.2f}'.format(i,w,b))"
   ]
  },
  {
   "cell_type": "code",
   "execution_count": 4,
   "metadata": {},
   "outputs": [
    {
     "data": {
      "text/plain": [
       "[<matplotlib.lines.Line2D at 0x7fee6622ca90>]"
      ]
     },
     "execution_count": 4,
     "metadata": {},
     "output_type": "execute_result"
    },
    {
     "data": {
      "image/png": "[encoded data removed]",
      "text/plain": [
       "<Figure size 432x288 with 1 Axes>"
      ]
     },
     "metadata": {
      "needs_background": "light"
     },
     "output_type": "display_data"
    }
   ],
   "source": [
    "x1=np.arange(1,14,0.1)\n",
    "y1=sigmoid(w*x1+b)\n",
    "plt.scatter(x_data, y_data)\n",
    "plt.plot(x1,y1, 'r')"
   ]
  },
  {
   "cell_type": "code",
   "execution_count": null,
   "metadata": {},
   "outputs": [],
   "source": []
  }
 ],
 "metadata": {
  "interpreter": {
   "hash": "dca0ade3e726a953b501b15e8e990130d2b7799f14cfd9f4271676035ebe5511"
  },
  "kernelspec": {
   "display_name": "Python 3.8.8 64-bit ('base': conda)",
   "name": "python3"
  },
  "language_info": {
   "codemirror_mode": {
    "name": "ipython",
    "version": 3
   },
   "file_extension": ".py",
   "mimetype": "text/x-python",
   "name": "python",
   "nbconvert_exporter": "python",
   "pygments_lexer": "ipython3",
   "version": "3.8.8"
  },
  "orig_nbformat": 4
 },
 "nbformat": 4,
 "nbformat_minor": 2
}