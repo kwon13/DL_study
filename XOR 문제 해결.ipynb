{
 "cells": [
  {
   "cell_type": "code",
   "execution_count": 1,
   "source": [
    "import numpy as np\n",
    "\n",
    "# 가중치와 편향\n",
    "w11=np.array([-2,-2])\n",
    "w12=np.array([2,2])\n",
    "w2=np.array([1,1])\n",
    "b1=3\n",
    "b2=-1\n",
    "b3=-1"
   ],
   "outputs": [],
   "metadata": {}
  },
  {
   "cell_type": "code",
   "execution_count": 2,
   "source": [
    "# 퍼셉트론\n",
    "def MLP(x,w,b):\n",
    "    y=np.sum(w*x)+b\n",
    "    if y <=0:\n",
    "        return 0\n",
    "    else:\n",
    "        return 1"
   ],
   "outputs": [],
   "metadata": {}
  },
  {
   "cell_type": "code",
   "execution_count": 3,
   "source": [
    "def NAND(x1,x2):\n",
    "    return MLP(np.array([x1,x2]),w11,b1)\n",
    "# OR\n",
    "def OR(x1,x2):\n",
    "    return MLP(np.array([x1,x2]),w12,b2)\n",
    "# AND\n",
    "def AND(x1,x2):\n",
    "    return MLP(np.array([x1,x2]),w2,b3)\n",
    "# XOR\n",
    "def XOR(x1,x2):\n",
    "    return AND(NAND(x1,x2), OR(x1,x2))"
   ],
   "outputs": [],
   "metadata": {}
  },
  {
   "cell_type": "code",
   "execution_count": 4,
   "source": [
    "for x in [(0,0),(1,0),(0,1),(1,1)]:\n",
    "    y = XOR(x[0],x[1])\n",
    "    print(f'입력값: {x}, 출력값: {y}')"
   ],
   "outputs": [
    {
     "output_type": "stream",
     "name": "stdout",
     "text": [
      "입력값: (0, 0), 출력값: 0\n",
      "입력값: (1, 0), 출력값: 1\n",
      "입력값: (0, 1), 출력값: 1\n",
      "입력값: (1, 1), 출력값: 0\n"
     ]
    }
   ],
   "metadata": {}
  },
  {
   "cell_type": "code",
   "execution_count": null,
   "source": [],
   "outputs": [],
   "metadata": {}
  }
 ],
 "metadata": {
  "orig_nbformat": 4,
  "language_info": {
   "name": "python"
  }
 },
 "nbformat": 4,
 "nbformat_minor": 2
}